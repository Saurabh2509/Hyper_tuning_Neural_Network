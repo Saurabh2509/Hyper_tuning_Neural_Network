{
  "nbformat": 4,
  "nbformat_minor": 0,
  "metadata": {
    "accelerator": "GPU",
    "colab": {
      "name": "Churn_model_ANN.ipynb",
      "provenance": [],
      "collapsed_sections": [
        "t_EwJjIZQifH"
      ]
    },
    "kernelspec": {
      "display_name": "Python 3",
      "name": "python3"
    },
    "language_info": {
      "name": "python"
    }
  },
  "cells": [
    {
      "cell_type": "markdown",
      "metadata": {
        "id": "mJxQrND7uGGA"
      },
      "source": [
        "#Handling imbalance dataset & Hypertuning Neural_Network"
      ]
    },
    {
      "cell_type": "code",
      "metadata": {
        "id": "g-S3xfY8uN9M"
      },
      "source": [
        "import pandas as pd\n",
        "import numpy as np\n",
        "import matplotlib.pyplot as plt\n",
        "import seaborn as sns\n",
        "\n",
        "import tensorflow as tf\n",
        "from tensorflow import keras\n",
        "from keras.layers import Dense\n",
        "from keras  import Sequential\n",
        "from keras.layers import Activation,Dropout\n",
        "from keras import layers\n",
        "\n",
        "import warnings\n",
        "warnings.filterwarnings('ignore')"
      ],
      "execution_count": null,
      "outputs": []
    },
    {
      "cell_type": "code",
      "metadata": {
        "id": "uepmRd2EwwiI"
      },
      "source": [
        "df=pd.read_csv('/content/Churn_Modelling.csv')"
      ],
      "execution_count": null,
      "outputs": []
    },
    {
      "cell_type": "code",
      "metadata": {
        "colab": {
          "base_uri": "https://localhost:8080/",
          "height": 224
        },
        "id": "nr5BPfjSyRu2",
        "outputId": "42ac2658-eb47-4408-912f-af8e765a4fa1"
      },
      "source": [
        "df.head()"
      ],
      "execution_count": null,
      "outputs": [
        {
          "output_type": "execute_result",
          "data": {
            "text/html": [
              "<div>\n",
              "<style scoped>\n",
              "    .dataframe tbody tr th:only-of-type {\n",
              "        vertical-align: middle;\n",
              "    }\n",
              "\n",
              "    .dataframe tbody tr th {\n",
              "        vertical-align: top;\n",
              "    }\n",
              "\n",
              "    .dataframe thead th {\n",
              "        text-align: right;\n",
              "    }\n",
              "</style>\n",
              "<table border=\"1\" class=\"dataframe\">\n",
              "  <thead>\n",
              "    <tr style=\"text-align: right;\">\n",
              "      <th></th>\n",
              "      <th>RowNumber</th>\n",
              "      <th>CustomerId</th>\n",
              "      <th>Surname</th>\n",
              "      <th>CreditScore</th>\n",
              "      <th>Geography</th>\n",
              "      <th>Gender</th>\n",
              "      <th>Age</th>\n",
              "      <th>Tenure</th>\n",
              "      <th>Balance</th>\n",
              "      <th>NumOfProducts</th>\n",
              "      <th>HasCrCard</th>\n",
              "      <th>IsActiveMember</th>\n",
              "      <th>EstimatedSalary</th>\n",
              "      <th>Exited</th>\n",
              "    </tr>\n",
              "  </thead>\n",
              "  <tbody>\n",
              "    <tr>\n",
              "      <th>0</th>\n",
              "      <td>1</td>\n",
              "      <td>15634602</td>\n",
              "      <td>Hargrave</td>\n",
              "      <td>619</td>\n",
              "      <td>France</td>\n",
              "      <td>Female</td>\n",
              "      <td>42</td>\n",
              "      <td>2</td>\n",
              "      <td>0.00</td>\n",
              "      <td>1</td>\n",
              "      <td>1</td>\n",
              "      <td>1</td>\n",
              "      <td>101348.88</td>\n",
              "      <td>1</td>\n",
              "    </tr>\n",
              "    <tr>\n",
              "      <th>1</th>\n",
              "      <td>2</td>\n",
              "      <td>15647311</td>\n",
              "      <td>Hill</td>\n",
              "      <td>608</td>\n",
              "      <td>Spain</td>\n",
              "      <td>Female</td>\n",
              "      <td>41</td>\n",
              "      <td>1</td>\n",
              "      <td>83807.86</td>\n",
              "      <td>1</td>\n",
              "      <td>0</td>\n",
              "      <td>1</td>\n",
              "      <td>112542.58</td>\n",
              "      <td>0</td>\n",
              "    </tr>\n",
              "    <tr>\n",
              "      <th>2</th>\n",
              "      <td>3</td>\n",
              "      <td>15619304</td>\n",
              "      <td>Onio</td>\n",
              "      <td>502</td>\n",
              "      <td>France</td>\n",
              "      <td>Female</td>\n",
              "      <td>42</td>\n",
              "      <td>8</td>\n",
              "      <td>159660.80</td>\n",
              "      <td>3</td>\n",
              "      <td>1</td>\n",
              "      <td>0</td>\n",
              "      <td>113931.57</td>\n",
              "      <td>1</td>\n",
              "    </tr>\n",
              "    <tr>\n",
              "      <th>3</th>\n",
              "      <td>4</td>\n",
              "      <td>15701354</td>\n",
              "      <td>Boni</td>\n",
              "      <td>699</td>\n",
              "      <td>France</td>\n",
              "      <td>Female</td>\n",
              "      <td>39</td>\n",
              "      <td>1</td>\n",
              "      <td>0.00</td>\n",
              "      <td>2</td>\n",
              "      <td>0</td>\n",
              "      <td>0</td>\n",
              "      <td>93826.63</td>\n",
              "      <td>0</td>\n",
              "    </tr>\n",
              "    <tr>\n",
              "      <th>4</th>\n",
              "      <td>5</td>\n",
              "      <td>15737888</td>\n",
              "      <td>Mitchell</td>\n",
              "      <td>850</td>\n",
              "      <td>Spain</td>\n",
              "      <td>Female</td>\n",
              "      <td>43</td>\n",
              "      <td>2</td>\n",
              "      <td>125510.82</td>\n",
              "      <td>1</td>\n",
              "      <td>1</td>\n",
              "      <td>1</td>\n",
              "      <td>79084.10</td>\n",
              "      <td>0</td>\n",
              "    </tr>\n",
              "  </tbody>\n",
              "</table>\n",
              "</div>"
            ],
            "text/plain": [
              "   RowNumber  CustomerId   Surname  ...  IsActiveMember EstimatedSalary Exited\n",
              "0          1    15634602  Hargrave  ...               1       101348.88      1\n",
              "1          2    15647311      Hill  ...               1       112542.58      0\n",
              "2          3    15619304      Onio  ...               0       113931.57      1\n",
              "3          4    15701354      Boni  ...               0        93826.63      0\n",
              "4          5    15737888  Mitchell  ...               1        79084.10      0\n",
              "\n",
              "[5 rows x 14 columns]"
            ]
          },
          "metadata": {
            "tags": []
          },
          "execution_count": 3
        }
      ]
    },
    {
      "cell_type": "code",
      "metadata": {
        "colab": {
          "base_uri": "https://localhost:8080/"
        },
        "id": "SvwJY01gyTJZ",
        "outputId": "56cafde1-6d82-4211-a74e-ae1928dbb759"
      },
      "source": [
        "df.shape"
      ],
      "execution_count": null,
      "outputs": [
        {
          "output_type": "execute_result",
          "data": {
            "text/plain": [
              "(10000, 14)"
            ]
          },
          "metadata": {
            "tags": []
          },
          "execution_count": 4
        }
      ]
    },
    {
      "cell_type": "code",
      "metadata": {
        "colab": {
          "base_uri": "https://localhost:8080/",
          "height": 317
        },
        "id": "cuxFF0vv0B0V",
        "outputId": "f9870aae-b215-4ed3-c9a8-7970ce94465e"
      },
      "source": [
        "df.describe()"
      ],
      "execution_count": null,
      "outputs": [
        {
          "output_type": "execute_result",
          "data": {
            "text/html": [
              "<div>\n",
              "<style scoped>\n",
              "    .dataframe tbody tr th:only-of-type {\n",
              "        vertical-align: middle;\n",
              "    }\n",
              "\n",
              "    .dataframe tbody tr th {\n",
              "        vertical-align: top;\n",
              "    }\n",
              "\n",
              "    .dataframe thead th {\n",
              "        text-align: right;\n",
              "    }\n",
              "</style>\n",
              "<table border=\"1\" class=\"dataframe\">\n",
              "  <thead>\n",
              "    <tr style=\"text-align: right;\">\n",
              "      <th></th>\n",
              "      <th>RowNumber</th>\n",
              "      <th>CustomerId</th>\n",
              "      <th>CreditScore</th>\n",
              "      <th>Age</th>\n",
              "      <th>Tenure</th>\n",
              "      <th>Balance</th>\n",
              "      <th>NumOfProducts</th>\n",
              "      <th>HasCrCard</th>\n",
              "      <th>IsActiveMember</th>\n",
              "      <th>EstimatedSalary</th>\n",
              "      <th>Exited</th>\n",
              "    </tr>\n",
              "  </thead>\n",
              "  <tbody>\n",
              "    <tr>\n",
              "      <th>count</th>\n",
              "      <td>10000.00000</td>\n",
              "      <td>1.000000e+04</td>\n",
              "      <td>10000.000000</td>\n",
              "      <td>10000.000000</td>\n",
              "      <td>10000.000000</td>\n",
              "      <td>10000.000000</td>\n",
              "      <td>10000.000000</td>\n",
              "      <td>10000.00000</td>\n",
              "      <td>10000.000000</td>\n",
              "      <td>10000.000000</td>\n",
              "      <td>10000.000000</td>\n",
              "    </tr>\n",
              "    <tr>\n",
              "      <th>mean</th>\n",
              "      <td>5000.50000</td>\n",
              "      <td>1.569094e+07</td>\n",
              "      <td>650.528800</td>\n",
              "      <td>38.921800</td>\n",
              "      <td>5.012800</td>\n",
              "      <td>76485.889288</td>\n",
              "      <td>1.530200</td>\n",
              "      <td>0.70550</td>\n",
              "      <td>0.515100</td>\n",
              "      <td>100090.239881</td>\n",
              "      <td>0.203700</td>\n",
              "    </tr>\n",
              "    <tr>\n",
              "      <th>std</th>\n",
              "      <td>2886.89568</td>\n",
              "      <td>7.193619e+04</td>\n",
              "      <td>96.653299</td>\n",
              "      <td>10.487806</td>\n",
              "      <td>2.892174</td>\n",
              "      <td>62397.405202</td>\n",
              "      <td>0.581654</td>\n",
              "      <td>0.45584</td>\n",
              "      <td>0.499797</td>\n",
              "      <td>57510.492818</td>\n",
              "      <td>0.402769</td>\n",
              "    </tr>\n",
              "    <tr>\n",
              "      <th>min</th>\n",
              "      <td>1.00000</td>\n",
              "      <td>1.556570e+07</td>\n",
              "      <td>350.000000</td>\n",
              "      <td>18.000000</td>\n",
              "      <td>0.000000</td>\n",
              "      <td>0.000000</td>\n",
              "      <td>1.000000</td>\n",
              "      <td>0.00000</td>\n",
              "      <td>0.000000</td>\n",
              "      <td>11.580000</td>\n",
              "      <td>0.000000</td>\n",
              "    </tr>\n",
              "    <tr>\n",
              "      <th>25%</th>\n",
              "      <td>2500.75000</td>\n",
              "      <td>1.562853e+07</td>\n",
              "      <td>584.000000</td>\n",
              "      <td>32.000000</td>\n",
              "      <td>3.000000</td>\n",
              "      <td>0.000000</td>\n",
              "      <td>1.000000</td>\n",
              "      <td>0.00000</td>\n",
              "      <td>0.000000</td>\n",
              "      <td>51002.110000</td>\n",
              "      <td>0.000000</td>\n",
              "    </tr>\n",
              "    <tr>\n",
              "      <th>50%</th>\n",
              "      <td>5000.50000</td>\n",
              "      <td>1.569074e+07</td>\n",
              "      <td>652.000000</td>\n",
              "      <td>37.000000</td>\n",
              "      <td>5.000000</td>\n",
              "      <td>97198.540000</td>\n",
              "      <td>1.000000</td>\n",
              "      <td>1.00000</td>\n",
              "      <td>1.000000</td>\n",
              "      <td>100193.915000</td>\n",
              "      <td>0.000000</td>\n",
              "    </tr>\n",
              "    <tr>\n",
              "      <th>75%</th>\n",
              "      <td>7500.25000</td>\n",
              "      <td>1.575323e+07</td>\n",
              "      <td>718.000000</td>\n",
              "      <td>44.000000</td>\n",
              "      <td>7.000000</td>\n",
              "      <td>127644.240000</td>\n",
              "      <td>2.000000</td>\n",
              "      <td>1.00000</td>\n",
              "      <td>1.000000</td>\n",
              "      <td>149388.247500</td>\n",
              "      <td>0.000000</td>\n",
              "    </tr>\n",
              "    <tr>\n",
              "      <th>max</th>\n",
              "      <td>10000.00000</td>\n",
              "      <td>1.581569e+07</td>\n",
              "      <td>850.000000</td>\n",
              "      <td>92.000000</td>\n",
              "      <td>10.000000</td>\n",
              "      <td>250898.090000</td>\n",
              "      <td>4.000000</td>\n",
              "      <td>1.00000</td>\n",
              "      <td>1.000000</td>\n",
              "      <td>199992.480000</td>\n",
              "      <td>1.000000</td>\n",
              "    </tr>\n",
              "  </tbody>\n",
              "</table>\n",
              "</div>"
            ],
            "text/plain": [
              "         RowNumber    CustomerId  ...  EstimatedSalary        Exited\n",
              "count  10000.00000  1.000000e+04  ...     10000.000000  10000.000000\n",
              "mean    5000.50000  1.569094e+07  ...    100090.239881      0.203700\n",
              "std     2886.89568  7.193619e+04  ...     57510.492818      0.402769\n",
              "min        1.00000  1.556570e+07  ...        11.580000      0.000000\n",
              "25%     2500.75000  1.562853e+07  ...     51002.110000      0.000000\n",
              "50%     5000.50000  1.569074e+07  ...    100193.915000      0.000000\n",
              "75%     7500.25000  1.575323e+07  ...    149388.247500      0.000000\n",
              "max    10000.00000  1.581569e+07  ...    199992.480000      1.000000\n",
              "\n",
              "[8 rows x 11 columns]"
            ]
          },
          "metadata": {
            "tags": []
          },
          "execution_count": 5
        }
      ]
    },
    {
      "cell_type": "code",
      "metadata": {
        "colab": {
          "base_uri": "https://localhost:8080/"
        },
        "id": "0MAYZNpr0E9b",
        "outputId": "77dd3c16-856e-47e2-fde0-6f732e926dea"
      },
      "source": [
        "df.info()"
      ],
      "execution_count": null,
      "outputs": [
        {
          "output_type": "stream",
          "text": [
            "<class 'pandas.core.frame.DataFrame'>\n",
            "RangeIndex: 10000 entries, 0 to 9999\n",
            "Data columns (total 14 columns):\n",
            " #   Column           Non-Null Count  Dtype  \n",
            "---  ------           --------------  -----  \n",
            " 0   RowNumber        10000 non-null  int64  \n",
            " 1   CustomerId       10000 non-null  int64  \n",
            " 2   Surname          10000 non-null  object \n",
            " 3   CreditScore      10000 non-null  int64  \n",
            " 4   Geography        10000 non-null  object \n",
            " 5   Gender           10000 non-null  object \n",
            " 6   Age              10000 non-null  int64  \n",
            " 7   Tenure           10000 non-null  int64  \n",
            " 8   Balance          10000 non-null  float64\n",
            " 9   NumOfProducts    10000 non-null  int64  \n",
            " 10  HasCrCard        10000 non-null  int64  \n",
            " 11  IsActiveMember   10000 non-null  int64  \n",
            " 12  EstimatedSalary  10000 non-null  float64\n",
            " 13  Exited           10000 non-null  int64  \n",
            "dtypes: float64(2), int64(9), object(3)\n",
            "memory usage: 1.1+ MB\n"
          ],
          "name": "stdout"
        }
      ]
    },
    {
      "cell_type": "code",
      "metadata": {
        "colab": {
          "base_uri": "https://localhost:8080/"
        },
        "id": "Hxl4H08T07Fz",
        "outputId": "d3ad77ba-7bb7-49d0-d172-f4f5892a485a"
      },
      "source": [
        "df.isnull().sum()"
      ],
      "execution_count": null,
      "outputs": [
        {
          "output_type": "execute_result",
          "data": {
            "text/plain": [
              "RowNumber          0\n",
              "CustomerId         0\n",
              "Surname            0\n",
              "CreditScore        0\n",
              "Geography          0\n",
              "Gender             0\n",
              "Age                0\n",
              "Tenure             0\n",
              "Balance            0\n",
              "NumOfProducts      0\n",
              "HasCrCard          0\n",
              "IsActiveMember     0\n",
              "EstimatedSalary    0\n",
              "Exited             0\n",
              "dtype: int64"
            ]
          },
          "metadata": {
            "tags": []
          },
          "execution_count": 7
        }
      ]
    },
    {
      "cell_type": "code",
      "metadata": {
        "colab": {
          "base_uri": "https://localhost:8080/"
        },
        "id": "deQaNp970_Uf",
        "outputId": "e036be69-f3d9-4b61-a1a6-0fe928a9fea3"
      },
      "source": [
        "df['Exited'].value_counts()"
      ],
      "execution_count": null,
      "outputs": [
        {
          "output_type": "execute_result",
          "data": {
            "text/plain": [
              "0    7963\n",
              "1    2037\n",
              "Name: Exited, dtype: int64"
            ]
          },
          "metadata": {
            "tags": []
          },
          "execution_count": 8
        }
      ]
    },
    {
      "cell_type": "code",
      "metadata": {
        "id": "3clqHlEFIwpM"
      },
      "source": [
        "#dataset is imbalance so we need to balance"
      ],
      "execution_count": null,
      "outputs": []
    },
    {
      "cell_type": "code",
      "metadata": {
        "id": "AgPU5XAmJYa_"
      },
      "source": [
        "#independent and dependent\n",
        "X =df.iloc[:,3:-1]\n",
        "y=df.iloc[:,-1]"
      ],
      "execution_count": null,
      "outputs": []
    },
    {
      "cell_type": "code",
      "metadata": {
        "colab": {
          "base_uri": "https://localhost:8080/"
        },
        "id": "dLshYs5FJ8hy",
        "outputId": "57cc689a-d1f4-4437-9f4b-bd5a0f5c806b"
      },
      "source": [
        "#shape of X and y\n",
        "print('X_shape:',X.shape)\n",
        "print('y_shape:',y.shape)"
      ],
      "execution_count": null,
      "outputs": [
        {
          "output_type": "stream",
          "text": [
            "X_shape: (10000, 10)\n",
            "y_shape: (10000,)\n"
          ],
          "name": "stdout"
        }
      ]
    },
    {
      "cell_type": "code",
      "metadata": {
        "colab": {
          "base_uri": "https://localhost:8080/",
          "height": 204
        },
        "id": "SjbJQpc-KIyN",
        "outputId": "e2064bc9-e899-4d14-cd69-6c46f9ffc1b2"
      },
      "source": [
        "#head of head\n",
        "X.head()"
      ],
      "execution_count": null,
      "outputs": [
        {
          "output_type": "execute_result",
          "data": {
            "text/html": [
              "<div>\n",
              "<style scoped>\n",
              "    .dataframe tbody tr th:only-of-type {\n",
              "        vertical-align: middle;\n",
              "    }\n",
              "\n",
              "    .dataframe tbody tr th {\n",
              "        vertical-align: top;\n",
              "    }\n",
              "\n",
              "    .dataframe thead th {\n",
              "        text-align: right;\n",
              "    }\n",
              "</style>\n",
              "<table border=\"1\" class=\"dataframe\">\n",
              "  <thead>\n",
              "    <tr style=\"text-align: right;\">\n",
              "      <th></th>\n",
              "      <th>CreditScore</th>\n",
              "      <th>Geography</th>\n",
              "      <th>Gender</th>\n",
              "      <th>Age</th>\n",
              "      <th>Tenure</th>\n",
              "      <th>Balance</th>\n",
              "      <th>NumOfProducts</th>\n",
              "      <th>HasCrCard</th>\n",
              "      <th>IsActiveMember</th>\n",
              "      <th>EstimatedSalary</th>\n",
              "    </tr>\n",
              "  </thead>\n",
              "  <tbody>\n",
              "    <tr>\n",
              "      <th>0</th>\n",
              "      <td>619</td>\n",
              "      <td>France</td>\n",
              "      <td>Female</td>\n",
              "      <td>42</td>\n",
              "      <td>2</td>\n",
              "      <td>0.00</td>\n",
              "      <td>1</td>\n",
              "      <td>1</td>\n",
              "      <td>1</td>\n",
              "      <td>101348.88</td>\n",
              "    </tr>\n",
              "    <tr>\n",
              "      <th>1</th>\n",
              "      <td>608</td>\n",
              "      <td>Spain</td>\n",
              "      <td>Female</td>\n",
              "      <td>41</td>\n",
              "      <td>1</td>\n",
              "      <td>83807.86</td>\n",
              "      <td>1</td>\n",
              "      <td>0</td>\n",
              "      <td>1</td>\n",
              "      <td>112542.58</td>\n",
              "    </tr>\n",
              "    <tr>\n",
              "      <th>2</th>\n",
              "      <td>502</td>\n",
              "      <td>France</td>\n",
              "      <td>Female</td>\n",
              "      <td>42</td>\n",
              "      <td>8</td>\n",
              "      <td>159660.80</td>\n",
              "      <td>3</td>\n",
              "      <td>1</td>\n",
              "      <td>0</td>\n",
              "      <td>113931.57</td>\n",
              "    </tr>\n",
              "    <tr>\n",
              "      <th>3</th>\n",
              "      <td>699</td>\n",
              "      <td>France</td>\n",
              "      <td>Female</td>\n",
              "      <td>39</td>\n",
              "      <td>1</td>\n",
              "      <td>0.00</td>\n",
              "      <td>2</td>\n",
              "      <td>0</td>\n",
              "      <td>0</td>\n",
              "      <td>93826.63</td>\n",
              "    </tr>\n",
              "    <tr>\n",
              "      <th>4</th>\n",
              "      <td>850</td>\n",
              "      <td>Spain</td>\n",
              "      <td>Female</td>\n",
              "      <td>43</td>\n",
              "      <td>2</td>\n",
              "      <td>125510.82</td>\n",
              "      <td>1</td>\n",
              "      <td>1</td>\n",
              "      <td>1</td>\n",
              "      <td>79084.10</td>\n",
              "    </tr>\n",
              "  </tbody>\n",
              "</table>\n",
              "</div>"
            ],
            "text/plain": [
              "   CreditScore Geography  Gender  ...  HasCrCard  IsActiveMember  EstimatedSalary\n",
              "0          619    France  Female  ...          1               1        101348.88\n",
              "1          608     Spain  Female  ...          0               1        112542.58\n",
              "2          502    France  Female  ...          1               0        113931.57\n",
              "3          699    France  Female  ...          0               0         93826.63\n",
              "4          850     Spain  Female  ...          1               1         79084.10\n",
              "\n",
              "[5 rows x 10 columns]"
            ]
          },
          "metadata": {
            "tags": []
          },
          "execution_count": 12
        }
      ]
    },
    {
      "cell_type": "code",
      "metadata": {
        "id": "7ciWIaYaKXlC"
      },
      "source": [
        "#converting cataogerical values in numerical values\n",
        "geo =pd.get_dummies(X['Geography'],drop_first=True)\n",
        "gen =pd.get_dummies(X['Gender'],drop_first=True)"
      ],
      "execution_count": null,
      "outputs": []
    },
    {
      "cell_type": "code",
      "metadata": {
        "id": "uz4uIc6VLNTz"
      },
      "source": [
        "#concating geo and gen in X\n",
        "X =pd.concat([X,gen,geo],axis=1)"
      ],
      "execution_count": null,
      "outputs": []
    },
    {
      "cell_type": "code",
      "metadata": {
        "colab": {
          "base_uri": "https://localhost:8080/",
          "height": 224
        },
        "id": "dyCWJv1NLaOZ",
        "outputId": "b97ae3fe-d8bf-45f1-9258-96f229f8550f"
      },
      "source": [
        "X.head()"
      ],
      "execution_count": null,
      "outputs": [
        {
          "output_type": "execute_result",
          "data": {
            "text/html": [
              "<div>\n",
              "<style scoped>\n",
              "    .dataframe tbody tr th:only-of-type {\n",
              "        vertical-align: middle;\n",
              "    }\n",
              "\n",
              "    .dataframe tbody tr th {\n",
              "        vertical-align: top;\n",
              "    }\n",
              "\n",
              "    .dataframe thead th {\n",
              "        text-align: right;\n",
              "    }\n",
              "</style>\n",
              "<table border=\"1\" class=\"dataframe\">\n",
              "  <thead>\n",
              "    <tr style=\"text-align: right;\">\n",
              "      <th></th>\n",
              "      <th>CreditScore</th>\n",
              "      <th>Geography</th>\n",
              "      <th>Gender</th>\n",
              "      <th>Age</th>\n",
              "      <th>Tenure</th>\n",
              "      <th>Balance</th>\n",
              "      <th>NumOfProducts</th>\n",
              "      <th>HasCrCard</th>\n",
              "      <th>IsActiveMember</th>\n",
              "      <th>EstimatedSalary</th>\n",
              "      <th>Male</th>\n",
              "      <th>Germany</th>\n",
              "      <th>Spain</th>\n",
              "    </tr>\n",
              "  </thead>\n",
              "  <tbody>\n",
              "    <tr>\n",
              "      <th>0</th>\n",
              "      <td>619</td>\n",
              "      <td>France</td>\n",
              "      <td>Female</td>\n",
              "      <td>42</td>\n",
              "      <td>2</td>\n",
              "      <td>0.00</td>\n",
              "      <td>1</td>\n",
              "      <td>1</td>\n",
              "      <td>1</td>\n",
              "      <td>101348.88</td>\n",
              "      <td>0</td>\n",
              "      <td>0</td>\n",
              "      <td>0</td>\n",
              "    </tr>\n",
              "    <tr>\n",
              "      <th>1</th>\n",
              "      <td>608</td>\n",
              "      <td>Spain</td>\n",
              "      <td>Female</td>\n",
              "      <td>41</td>\n",
              "      <td>1</td>\n",
              "      <td>83807.86</td>\n",
              "      <td>1</td>\n",
              "      <td>0</td>\n",
              "      <td>1</td>\n",
              "      <td>112542.58</td>\n",
              "      <td>0</td>\n",
              "      <td>0</td>\n",
              "      <td>1</td>\n",
              "    </tr>\n",
              "    <tr>\n",
              "      <th>2</th>\n",
              "      <td>502</td>\n",
              "      <td>France</td>\n",
              "      <td>Female</td>\n",
              "      <td>42</td>\n",
              "      <td>8</td>\n",
              "      <td>159660.80</td>\n",
              "      <td>3</td>\n",
              "      <td>1</td>\n",
              "      <td>0</td>\n",
              "      <td>113931.57</td>\n",
              "      <td>0</td>\n",
              "      <td>0</td>\n",
              "      <td>0</td>\n",
              "    </tr>\n",
              "    <tr>\n",
              "      <th>3</th>\n",
              "      <td>699</td>\n",
              "      <td>France</td>\n",
              "      <td>Female</td>\n",
              "      <td>39</td>\n",
              "      <td>1</td>\n",
              "      <td>0.00</td>\n",
              "      <td>2</td>\n",
              "      <td>0</td>\n",
              "      <td>0</td>\n",
              "      <td>93826.63</td>\n",
              "      <td>0</td>\n",
              "      <td>0</td>\n",
              "      <td>0</td>\n",
              "    </tr>\n",
              "    <tr>\n",
              "      <th>4</th>\n",
              "      <td>850</td>\n",
              "      <td>Spain</td>\n",
              "      <td>Female</td>\n",
              "      <td>43</td>\n",
              "      <td>2</td>\n",
              "      <td>125510.82</td>\n",
              "      <td>1</td>\n",
              "      <td>1</td>\n",
              "      <td>1</td>\n",
              "      <td>79084.10</td>\n",
              "      <td>0</td>\n",
              "      <td>0</td>\n",
              "      <td>1</td>\n",
              "    </tr>\n",
              "  </tbody>\n",
              "</table>\n",
              "</div>"
            ],
            "text/plain": [
              "   CreditScore Geography  Gender  Age  ...  EstimatedSalary  Male  Germany  Spain\n",
              "0          619    France  Female   42  ...        101348.88     0        0      0\n",
              "1          608     Spain  Female   41  ...        112542.58     0        0      1\n",
              "2          502    France  Female   42  ...        113931.57     0        0      0\n",
              "3          699    France  Female   39  ...         93826.63     0        0      0\n",
              "4          850     Spain  Female   43  ...         79084.10     0        0      1\n",
              "\n",
              "[5 rows x 13 columns]"
            ]
          },
          "metadata": {
            "tags": []
          },
          "execution_count": 15
        }
      ]
    },
    {
      "cell_type": "code",
      "metadata": {
        "id": "GXV0QllPMHQS"
      },
      "source": [
        "#drop Geography\tGender\n",
        "X.drop(columns=['Geography','Gender'],axis=1,inplace=True)"
      ],
      "execution_count": null,
      "outputs": []
    },
    {
      "cell_type": "code",
      "metadata": {
        "colab": {
          "base_uri": "https://localhost:8080/"
        },
        "id": "kYWAblmTNnVN",
        "outputId": "bd9a5529-ba96-4fe3-f3a7-a0e70ff59c98"
      },
      "source": [
        "print('X_shape',X.shape)"
      ],
      "execution_count": null,
      "outputs": [
        {
          "output_type": "stream",
          "text": [
            "X_shape (10000, 11)\n"
          ],
          "name": "stdout"
        }
      ]
    },
    {
      "cell_type": "code",
      "metadata": {
        "id": "pKP3U412Mg6D"
      },
      "source": [
        "#sacling\n",
        "from sklearn.preprocessing import StandardScaler\n",
        "Scaler =StandardScaler()\n",
        "X_scale=Scaler.fit_transform(X)"
      ],
      "execution_count": null,
      "outputs": []
    },
    {
      "cell_type": "code",
      "metadata": {
        "id": "51jSGZPOOMrk"
      },
      "source": [
        "#balance the imbalance data\n",
        "from imblearn.under_sampling import RandomUnderSampler\n",
        "from imblearn.over_sampling import SMOTE"
      ],
      "execution_count": null,
      "outputs": []
    },
    {
      "cell_type": "code",
      "metadata": {
        "colab": {
          "base_uri": "https://localhost:8080/"
        },
        "id": "xO2kacwIPocw",
        "outputId": "3da1ac86-98f1-407e-f626-2b506ba65ba6"
      },
      "source": [
        "#using smote \n",
        "smote =SMOTE(sampling_strategy='minority')\n",
        "X_sm ,y_sm =smote.fit_sample(X_scale,y)\n",
        "print('X_sm',X_sm.shape)\n",
        "print('y_sm',y_sm.shape)"
      ],
      "execution_count": null,
      "outputs": [
        {
          "output_type": "stream",
          "text": [
            "X_sm (15926, 11)\n",
            "y_sm (15926,)\n"
          ],
          "name": "stdout"
        }
      ]
    },
    {
      "cell_type": "code",
      "metadata": {
        "colab": {
          "base_uri": "https://localhost:8080/"
        },
        "id": "gfat9ZOzQoVB",
        "outputId": "4491724b-3b31-4051-913d-e78df120a191"
      },
      "source": [
        "np.unique(y_sm,return_counts=True)"
      ],
      "execution_count": null,
      "outputs": [
        {
          "output_type": "execute_result",
          "data": {
            "text/plain": [
              "(array([0, 1]), array([7963, 7963]))"
            ]
          },
          "metadata": {
            "tags": []
          },
          "execution_count": 21
        }
      ]
    },
    {
      "cell_type": "code",
      "metadata": {
        "id": "qHfkTTMqQuVM"
      },
      "source": [
        "#train_test_split\n",
        "from sklearn.model_selection import train_test_split\n",
        "X_train,X_test,y_train,y_test = train_test_split(X_sm,y_sm,test_size=0.3,random_state=12,stratify=y_sm)"
      ],
      "execution_count": null,
      "outputs": []
    },
    {
      "cell_type": "code",
      "metadata": {
        "colab": {
          "base_uri": "https://localhost:8080/"
        },
        "id": "p3RmxJ6LSzSH",
        "outputId": "4d6e547d-1e71-4181-9477-308b32ad451e"
      },
      "source": [
        "np.unique(y_test,return_counts=True)"
      ],
      "execution_count": null,
      "outputs": [
        {
          "output_type": "execute_result",
          "data": {
            "text/plain": [
              "(array([0, 1]), array([2389, 2389]))"
            ]
          },
          "metadata": {
            "tags": []
          },
          "execution_count": 23
        }
      ]
    },
    {
      "cell_type": "code",
      "metadata": {
        "colab": {
          "base_uri": "https://localhost:8080/"
        },
        "id": "QD8zE4hxS3hJ",
        "outputId": "7d98ada3-ba7d-45b7-b710-e7407966dfb3"
      },
      "source": [
        "print('X_train_shape',X_train.shape)\n",
        "print('X_test_shape',X_test.shape)\n",
        "print('y_train_shape',y_train.shape)\n",
        "print('y_test_shape',y_test.shape)"
      ],
      "execution_count": null,
      "outputs": [
        {
          "output_type": "stream",
          "text": [
            "X_train_shape (11148, 11)\n",
            "X_test_shape (4778, 11)\n",
            "y_train_shape (11148,)\n",
            "y_test_shape (4778,)\n"
          ],
          "name": "stdout"
        }
      ]
    },
    {
      "cell_type": "code",
      "metadata": {
        "id": "9Q6xiBKvTrnW"
      },
      "source": [
        "model =Sequential()\n",
        "#1st_hidden_layer\n",
        "model.add(Dense(units=25,activation='relu',kernel_initializer='he_uniform',input_dim=X_train.shape[1]))\n",
        "#2nd_hidden_layer\n",
        "model.add(Dense(units=40,activation='relu',kernel_initializer='he_uniform'))\n",
        "#3rd_hidden_layer\n",
        "model.add(Dense(units=40,activation='relu',kernel_initializer='he_uniform'))\n",
        "#4th_hidden_layers\n",
        "model.add(Dense(units=15,activation='relu',kernel_initializer='he_uniform'))\n",
        "#output_layer\n",
        "model.add(Dense(units=1,kernel_initializer='glorot_uniform',activation='sigmoid'))"
      ],
      "execution_count": null,
      "outputs": []
    },
    {
      "cell_type": "code",
      "metadata": {
        "colab": {
          "base_uri": "https://localhost:8080/"
        },
        "id": "PNGVGbddZBdW",
        "outputId": "cc4ed36e-a851-4485-a01b-906727df2be9"
      },
      "source": [
        "model.summary()"
      ],
      "execution_count": null,
      "outputs": [
        {
          "output_type": "stream",
          "text": [
            "Model: \"sequential\"\n",
            "_________________________________________________________________\n",
            "Layer (type)                 Output Shape              Param #   \n",
            "=================================================================\n",
            "dense (Dense)                (None, 25)                300       \n",
            "_________________________________________________________________\n",
            "dense_1 (Dense)              (None, 40)                1040      \n",
            "_________________________________________________________________\n",
            "dense_2 (Dense)              (None, 40)                1640      \n",
            "_________________________________________________________________\n",
            "dense_3 (Dense)              (None, 15)                615       \n",
            "_________________________________________________________________\n",
            "dense_4 (Dense)              (None, 1)                 16        \n",
            "=================================================================\n",
            "Total params: 3,611\n",
            "Trainable params: 3,611\n",
            "Non-trainable params: 0\n",
            "_________________________________________________________________\n"
          ],
          "name": "stdout"
        }
      ]
    },
    {
      "cell_type": "code",
      "metadata": {
        "id": "PobzViLzZz0Y"
      },
      "source": [
        "model.compile(optimizer='adam',loss='binary_crossentropy',metrics=['accuracy'])"
      ],
      "execution_count": null,
      "outputs": []
    },
    {
      "cell_type": "code",
      "metadata": {
        "colab": {
          "base_uri": "https://localhost:8080/"
        },
        "id": "GOwX-Bpoaa1J",
        "outputId": "ce5b4ee6-333b-442a-9c32-2aff7f4e5b16"
      },
      "source": [
        "model_final =model.fit(x=X_train,y=y_train,batch_size=500,epochs=100,validation_split=.33)"
      ],
      "execution_count": null,
      "outputs": [
        {
          "output_type": "stream",
          "text": [
            "Epoch 1/100\n",
            "15/15 [==============================] - 15s 48ms/step - loss: 0.6975 - accuracy: 0.5432 - val_loss: 0.6298 - val_accuracy: 0.6483\n",
            "Epoch 2/100\n",
            "15/15 [==============================] - 0s 5ms/step - loss: 0.6207 - accuracy: 0.6596 - val_loss: 0.5890 - val_accuracy: 0.6934\n",
            "Epoch 3/100\n",
            "15/15 [==============================] - 0s 5ms/step - loss: 0.5833 - accuracy: 0.7016 - val_loss: 0.5635 - val_accuracy: 0.7165\n",
            "Epoch 4/100\n",
            "15/15 [==============================] - 0s 5ms/step - loss: 0.5625 - accuracy: 0.7209 - val_loss: 0.5417 - val_accuracy: 0.7301\n",
            "Epoch 5/100\n",
            "15/15 [==============================] - 0s 5ms/step - loss: 0.5324 - accuracy: 0.7384 - val_loss: 0.5246 - val_accuracy: 0.7423\n",
            "Epoch 6/100\n",
            "15/15 [==============================] - 0s 5ms/step - loss: 0.5211 - accuracy: 0.7423 - val_loss: 0.5056 - val_accuracy: 0.7464\n",
            "Epoch 7/100\n",
            "15/15 [==============================] - 0s 5ms/step - loss: 0.5120 - accuracy: 0.7479 - val_loss: 0.4919 - val_accuracy: 0.7537\n",
            "Epoch 8/100\n",
            "15/15 [==============================] - 0s 5ms/step - loss: 0.4821 - accuracy: 0.7644 - val_loss: 0.4771 - val_accuracy: 0.7652\n",
            "Epoch 9/100\n",
            "15/15 [==============================] - 0s 5ms/step - loss: 0.4820 - accuracy: 0.7690 - val_loss: 0.4668 - val_accuracy: 0.7700\n",
            "Epoch 10/100\n",
            "15/15 [==============================] - 0s 5ms/step - loss: 0.4690 - accuracy: 0.7745 - val_loss: 0.4582 - val_accuracy: 0.7785\n",
            "Epoch 11/100\n",
            "15/15 [==============================] - 0s 5ms/step - loss: 0.4586 - accuracy: 0.7801 - val_loss: 0.4552 - val_accuracy: 0.7777\n",
            "Epoch 12/100\n",
            "15/15 [==============================] - 0s 4ms/step - loss: 0.4555 - accuracy: 0.7843 - val_loss: 0.4489 - val_accuracy: 0.7872\n",
            "Epoch 13/100\n",
            "15/15 [==============================] - 0s 5ms/step - loss: 0.4480 - accuracy: 0.7925 - val_loss: 0.4427 - val_accuracy: 0.7910\n",
            "Epoch 14/100\n",
            "15/15 [==============================] - 0s 5ms/step - loss: 0.4415 - accuracy: 0.7946 - val_loss: 0.4403 - val_accuracy: 0.7929\n",
            "Epoch 15/100\n",
            "15/15 [==============================] - 0s 5ms/step - loss: 0.4399 - accuracy: 0.7950 - val_loss: 0.4378 - val_accuracy: 0.7945\n",
            "Epoch 16/100\n",
            "15/15 [==============================] - 0s 5ms/step - loss: 0.4311 - accuracy: 0.7971 - val_loss: 0.4383 - val_accuracy: 0.7904\n",
            "Epoch 17/100\n",
            "15/15 [==============================] - 0s 4ms/step - loss: 0.4366 - accuracy: 0.7963 - val_loss: 0.4371 - val_accuracy: 0.7929\n",
            "Epoch 18/100\n",
            "15/15 [==============================] - 0s 5ms/step - loss: 0.4251 - accuracy: 0.8002 - val_loss: 0.4319 - val_accuracy: 0.7999\n",
            "Epoch 19/100\n",
            "15/15 [==============================] - 0s 5ms/step - loss: 0.4167 - accuracy: 0.8028 - val_loss: 0.4284 - val_accuracy: 0.8002\n",
            "Epoch 20/100\n",
            "15/15 [==============================] - 0s 5ms/step - loss: 0.4180 - accuracy: 0.8038 - val_loss: 0.4275 - val_accuracy: 0.7983\n",
            "Epoch 21/100\n",
            "15/15 [==============================] - 0s 5ms/step - loss: 0.4200 - accuracy: 0.8037 - val_loss: 0.4274 - val_accuracy: 0.7994\n",
            "Epoch 22/100\n",
            "15/15 [==============================] - 0s 5ms/step - loss: 0.4148 - accuracy: 0.8082 - val_loss: 0.4257 - val_accuracy: 0.7991\n",
            "Epoch 23/100\n",
            "15/15 [==============================] - 0s 5ms/step - loss: 0.4069 - accuracy: 0.8165 - val_loss: 0.4218 - val_accuracy: 0.8048\n",
            "Epoch 24/100\n",
            "15/15 [==============================] - 0s 5ms/step - loss: 0.4018 - accuracy: 0.8174 - val_loss: 0.4208 - val_accuracy: 0.8032\n",
            "Epoch 25/100\n",
            "15/15 [==============================] - 0s 5ms/step - loss: 0.4061 - accuracy: 0.8113 - val_loss: 0.4193 - val_accuracy: 0.8046\n",
            "Epoch 26/100\n",
            "15/15 [==============================] - 0s 5ms/step - loss: 0.4058 - accuracy: 0.8117 - val_loss: 0.4182 - val_accuracy: 0.8078\n",
            "Epoch 27/100\n",
            "15/15 [==============================] - 0s 5ms/step - loss: 0.4039 - accuracy: 0.8095 - val_loss: 0.4176 - val_accuracy: 0.8086\n",
            "Epoch 28/100\n",
            "15/15 [==============================] - 0s 5ms/step - loss: 0.4028 - accuracy: 0.8143 - val_loss: 0.4173 - val_accuracy: 0.8092\n",
            "Epoch 29/100\n",
            "15/15 [==============================] - 0s 5ms/step - loss: 0.3927 - accuracy: 0.8228 - val_loss: 0.4148 - val_accuracy: 0.8092\n",
            "Epoch 30/100\n",
            "15/15 [==============================] - 0s 6ms/step - loss: 0.3914 - accuracy: 0.8211 - val_loss: 0.4139 - val_accuracy: 0.8097\n",
            "Epoch 31/100\n",
            "15/15 [==============================] - 0s 5ms/step - loss: 0.3913 - accuracy: 0.8205 - val_loss: 0.4135 - val_accuracy: 0.8119\n",
            "Epoch 32/100\n",
            "15/15 [==============================] - 0s 5ms/step - loss: 0.3947 - accuracy: 0.8196 - val_loss: 0.4136 - val_accuracy: 0.8103\n",
            "Epoch 33/100\n",
            "15/15 [==============================] - 0s 5ms/step - loss: 0.3874 - accuracy: 0.8252 - val_loss: 0.4111 - val_accuracy: 0.8108\n",
            "Epoch 34/100\n",
            "15/15 [==============================] - 0s 5ms/step - loss: 0.3868 - accuracy: 0.8248 - val_loss: 0.4152 - val_accuracy: 0.8070\n",
            "Epoch 35/100\n",
            "15/15 [==============================] - 0s 5ms/step - loss: 0.3802 - accuracy: 0.8297 - val_loss: 0.4111 - val_accuracy: 0.8105\n",
            "Epoch 36/100\n",
            "15/15 [==============================] - 0s 5ms/step - loss: 0.3907 - accuracy: 0.8210 - val_loss: 0.4090 - val_accuracy: 0.8122\n",
            "Epoch 37/100\n",
            "15/15 [==============================] - 0s 5ms/step - loss: 0.3784 - accuracy: 0.8300 - val_loss: 0.4078 - val_accuracy: 0.8168\n",
            "Epoch 38/100\n",
            "15/15 [==============================] - 0s 4ms/step - loss: 0.3831 - accuracy: 0.8296 - val_loss: 0.4084 - val_accuracy: 0.8119\n",
            "Epoch 39/100\n",
            "15/15 [==============================] - 0s 5ms/step - loss: 0.3810 - accuracy: 0.8240 - val_loss: 0.4055 - val_accuracy: 0.8176\n",
            "Epoch 40/100\n",
            "15/15 [==============================] - 0s 5ms/step - loss: 0.3718 - accuracy: 0.8305 - val_loss: 0.4067 - val_accuracy: 0.8179\n",
            "Epoch 41/100\n",
            "15/15 [==============================] - 0s 5ms/step - loss: 0.3747 - accuracy: 0.8319 - val_loss: 0.4070 - val_accuracy: 0.8141\n",
            "Epoch 42/100\n",
            "15/15 [==============================] - 0s 5ms/step - loss: 0.3702 - accuracy: 0.8392 - val_loss: 0.4087 - val_accuracy: 0.8114\n",
            "Epoch 43/100\n",
            "15/15 [==============================] - 0s 5ms/step - loss: 0.3624 - accuracy: 0.8369 - val_loss: 0.4038 - val_accuracy: 0.8179\n",
            "Epoch 44/100\n",
            "15/15 [==============================] - 0s 5ms/step - loss: 0.3687 - accuracy: 0.8353 - val_loss: 0.4040 - val_accuracy: 0.8222\n",
            "Epoch 45/100\n",
            "15/15 [==============================] - 0s 5ms/step - loss: 0.3790 - accuracy: 0.8283 - val_loss: 0.4053 - val_accuracy: 0.8182\n",
            "Epoch 46/100\n",
            "15/15 [==============================] - 0s 5ms/step - loss: 0.3563 - accuracy: 0.8397 - val_loss: 0.4028 - val_accuracy: 0.8192\n",
            "Epoch 47/100\n",
            "15/15 [==============================] - 0s 5ms/step - loss: 0.3663 - accuracy: 0.8364 - val_loss: 0.4033 - val_accuracy: 0.8190\n",
            "Epoch 48/100\n",
            "15/15 [==============================] - 0s 5ms/step - loss: 0.3640 - accuracy: 0.8380 - val_loss: 0.4040 - val_accuracy: 0.8201\n",
            "Epoch 49/100\n",
            "15/15 [==============================] - 0s 5ms/step - loss: 0.3576 - accuracy: 0.8432 - val_loss: 0.4020 - val_accuracy: 0.8228\n",
            "Epoch 50/100\n",
            "15/15 [==============================] - 0s 5ms/step - loss: 0.3550 - accuracy: 0.8405 - val_loss: 0.4029 - val_accuracy: 0.8184\n",
            "Epoch 51/100\n",
            "15/15 [==============================] - 0s 5ms/step - loss: 0.3511 - accuracy: 0.8481 - val_loss: 0.4083 - val_accuracy: 0.8176\n",
            "Epoch 52/100\n",
            "15/15 [==============================] - 0s 5ms/step - loss: 0.3550 - accuracy: 0.8439 - val_loss: 0.4035 - val_accuracy: 0.8211\n",
            "Epoch 53/100\n",
            "15/15 [==============================] - 0s 5ms/step - loss: 0.3576 - accuracy: 0.8388 - val_loss: 0.4012 - val_accuracy: 0.8217\n",
            "Epoch 54/100\n",
            "15/15 [==============================] - 0s 5ms/step - loss: 0.3460 - accuracy: 0.8529 - val_loss: 0.4017 - val_accuracy: 0.8217\n",
            "Epoch 55/100\n",
            "15/15 [==============================] - 0s 5ms/step - loss: 0.3448 - accuracy: 0.8452 - val_loss: 0.4015 - val_accuracy: 0.8220\n",
            "Epoch 56/100\n",
            "15/15 [==============================] - 0s 5ms/step - loss: 0.3337 - accuracy: 0.8610 - val_loss: 0.3993 - val_accuracy: 0.8260\n",
            "Epoch 57/100\n",
            "15/15 [==============================] - 0s 5ms/step - loss: 0.3459 - accuracy: 0.8495 - val_loss: 0.4009 - val_accuracy: 0.8201\n",
            "Epoch 58/100\n",
            "15/15 [==============================] - 0s 6ms/step - loss: 0.3490 - accuracy: 0.8499 - val_loss: 0.4034 - val_accuracy: 0.8198\n",
            "Epoch 59/100\n",
            "15/15 [==============================] - 0s 5ms/step - loss: 0.3444 - accuracy: 0.8518 - val_loss: 0.4002 - val_accuracy: 0.8222\n",
            "Epoch 60/100\n",
            "15/15 [==============================] - 0s 5ms/step - loss: 0.3500 - accuracy: 0.8460 - val_loss: 0.4028 - val_accuracy: 0.8192\n",
            "Epoch 61/100\n",
            "15/15 [==============================] - 0s 5ms/step - loss: 0.3431 - accuracy: 0.8465 - val_loss: 0.4013 - val_accuracy: 0.8220\n",
            "Epoch 62/100\n",
            "15/15 [==============================] - 0s 5ms/step - loss: 0.3380 - accuracy: 0.8540 - val_loss: 0.4034 - val_accuracy: 0.8190\n",
            "Epoch 63/100\n",
            "15/15 [==============================] - 0s 5ms/step - loss: 0.3376 - accuracy: 0.8510 - val_loss: 0.4019 - val_accuracy: 0.8198\n",
            "Epoch 64/100\n",
            "15/15 [==============================] - 0s 5ms/step - loss: 0.3335 - accuracy: 0.8588 - val_loss: 0.4000 - val_accuracy: 0.8241\n",
            "Epoch 65/100\n",
            "15/15 [==============================] - 0s 4ms/step - loss: 0.3361 - accuracy: 0.8509 - val_loss: 0.3990 - val_accuracy: 0.8244\n",
            "Epoch 66/100\n",
            "15/15 [==============================] - 0s 5ms/step - loss: 0.3310 - accuracy: 0.8563 - val_loss: 0.4036 - val_accuracy: 0.8228\n",
            "Epoch 67/100\n",
            "15/15 [==============================] - 0s 5ms/step - loss: 0.3320 - accuracy: 0.8538 - val_loss: 0.4002 - val_accuracy: 0.8209\n",
            "Epoch 68/100\n",
            "15/15 [==============================] - 0s 5ms/step - loss: 0.3307 - accuracy: 0.8565 - val_loss: 0.3988 - val_accuracy: 0.8255\n",
            "Epoch 69/100\n",
            "15/15 [==============================] - 0s 5ms/step - loss: 0.3247 - accuracy: 0.8593 - val_loss: 0.4002 - val_accuracy: 0.8266\n",
            "Epoch 70/100\n",
            "15/15 [==============================] - 0s 5ms/step - loss: 0.3276 - accuracy: 0.8595 - val_loss: 0.3999 - val_accuracy: 0.8247\n",
            "Epoch 71/100\n",
            "15/15 [==============================] - 0s 5ms/step - loss: 0.3282 - accuracy: 0.8559 - val_loss: 0.4021 - val_accuracy: 0.8252\n",
            "Epoch 72/100\n",
            "15/15 [==============================] - 0s 5ms/step - loss: 0.3255 - accuracy: 0.8578 - val_loss: 0.3983 - val_accuracy: 0.8233\n",
            "Epoch 73/100\n",
            "15/15 [==============================] - 0s 5ms/step - loss: 0.3206 - accuracy: 0.8620 - val_loss: 0.3992 - val_accuracy: 0.8266\n",
            "Epoch 74/100\n",
            "15/15 [==============================] - 0s 5ms/step - loss: 0.3104 - accuracy: 0.8648 - val_loss: 0.3993 - val_accuracy: 0.8228\n",
            "Epoch 75/100\n",
            "15/15 [==============================] - 0s 5ms/step - loss: 0.3144 - accuracy: 0.8670 - val_loss: 0.4006 - val_accuracy: 0.8228\n",
            "Epoch 76/100\n",
            "15/15 [==============================] - 0s 5ms/step - loss: 0.3156 - accuracy: 0.8665 - val_loss: 0.4006 - val_accuracy: 0.8244\n",
            "Epoch 77/100\n",
            "15/15 [==============================] - 0s 5ms/step - loss: 0.3209 - accuracy: 0.8617 - val_loss: 0.4020 - val_accuracy: 0.8252\n",
            "Epoch 78/100\n",
            "15/15 [==============================] - 0s 5ms/step - loss: 0.3238 - accuracy: 0.8627 - val_loss: 0.3993 - val_accuracy: 0.8217\n",
            "Epoch 79/100\n",
            "15/15 [==============================] - 0s 5ms/step - loss: 0.3240 - accuracy: 0.8582 - val_loss: 0.4013 - val_accuracy: 0.8247\n",
            "Epoch 80/100\n",
            "15/15 [==============================] - 0s 5ms/step - loss: 0.3067 - accuracy: 0.8667 - val_loss: 0.3996 - val_accuracy: 0.8244\n",
            "Epoch 81/100\n",
            "15/15 [==============================] - 0s 5ms/step - loss: 0.3101 - accuracy: 0.8685 - val_loss: 0.4002 - val_accuracy: 0.8233\n",
            "Epoch 82/100\n",
            "15/15 [==============================] - 0s 5ms/step - loss: 0.3110 - accuracy: 0.8679 - val_loss: 0.4005 - val_accuracy: 0.8239\n",
            "Epoch 83/100\n",
            "15/15 [==============================] - 0s 5ms/step - loss: 0.3087 - accuracy: 0.8705 - val_loss: 0.4003 - val_accuracy: 0.8279\n",
            "Epoch 84/100\n",
            "15/15 [==============================] - 0s 5ms/step - loss: 0.3022 - accuracy: 0.8775 - val_loss: 0.4026 - val_accuracy: 0.8198\n",
            "Epoch 85/100\n",
            "15/15 [==============================] - 0s 5ms/step - loss: 0.3070 - accuracy: 0.8690 - val_loss: 0.4050 - val_accuracy: 0.8250\n",
            "Epoch 86/100\n",
            "15/15 [==============================] - 0s 5ms/step - loss: 0.3139 - accuracy: 0.8626 - val_loss: 0.3999 - val_accuracy: 0.8271\n",
            "Epoch 87/100\n",
            "15/15 [==============================] - 0s 5ms/step - loss: 0.3006 - accuracy: 0.8719 - val_loss: 0.4013 - val_accuracy: 0.8255\n",
            "Epoch 88/100\n",
            "15/15 [==============================] - 0s 5ms/step - loss: 0.3035 - accuracy: 0.8749 - val_loss: 0.4008 - val_accuracy: 0.8288\n",
            "Epoch 89/100\n",
            "15/15 [==============================] - 0s 5ms/step - loss: 0.2982 - accuracy: 0.8784 - val_loss: 0.3992 - val_accuracy: 0.8293\n",
            "Epoch 90/100\n",
            "15/15 [==============================] - 0s 5ms/step - loss: 0.3031 - accuracy: 0.8728 - val_loss: 0.4007 - val_accuracy: 0.8274\n",
            "Epoch 91/100\n",
            "15/15 [==============================] - 0s 5ms/step - loss: 0.2943 - accuracy: 0.8758 - val_loss: 0.4010 - val_accuracy: 0.8282\n",
            "Epoch 92/100\n",
            "15/15 [==============================] - 0s 5ms/step - loss: 0.2960 - accuracy: 0.8749 - val_loss: 0.4004 - val_accuracy: 0.8247\n",
            "Epoch 93/100\n",
            "15/15 [==============================] - 0s 5ms/step - loss: 0.2930 - accuracy: 0.8807 - val_loss: 0.4078 - val_accuracy: 0.8230\n",
            "Epoch 94/100\n",
            "15/15 [==============================] - 0s 5ms/step - loss: 0.2970 - accuracy: 0.8785 - val_loss: 0.4012 - val_accuracy: 0.8317\n",
            "Epoch 95/100\n",
            "15/15 [==============================] - 0s 5ms/step - loss: 0.2962 - accuracy: 0.8770 - val_loss: 0.4019 - val_accuracy: 0.8298\n",
            "Epoch 96/100\n",
            "15/15 [==============================] - 0s 5ms/step - loss: 0.2907 - accuracy: 0.8785 - val_loss: 0.3994 - val_accuracy: 0.8326\n",
            "Epoch 97/100\n",
            "15/15 [==============================] - 0s 5ms/step - loss: 0.2816 - accuracy: 0.8820 - val_loss: 0.4100 - val_accuracy: 0.8285\n",
            "Epoch 98/100\n",
            "15/15 [==============================] - 0s 4ms/step - loss: 0.2854 - accuracy: 0.8800 - val_loss: 0.4032 - val_accuracy: 0.8304\n",
            "Epoch 99/100\n",
            "15/15 [==============================] - 0s 5ms/step - loss: 0.2829 - accuracy: 0.8818 - val_loss: 0.4046 - val_accuracy: 0.8323\n",
            "Epoch 100/100\n",
            "15/15 [==============================] - 0s 5ms/step - loss: 0.2893 - accuracy: 0.8808 - val_loss: 0.4039 - val_accuracy: 0.8301\n"
          ],
          "name": "stdout"
        }
      ]
    },
    {
      "cell_type": "code",
      "metadata": {
        "id": "xY0sFhDOazji"
      },
      "source": [
        "y_pred =model.predict(X_test)\n",
        "y_pred =(y_pred>0.5)"
      ],
      "execution_count": null,
      "outputs": []
    },
    {
      "cell_type": "code",
      "metadata": {
        "colab": {
          "base_uri": "https://localhost:8080/"
        },
        "id": "YwleCrdmbk3M",
        "outputId": "eca303e5-e51e-4b77-fcd1-a9024e095c28"
      },
      "source": [
        "from  sklearn import metrics\n",
        "print('Accuracy_score:',metrics.accuracy_score(y_test,y_pred))\n",
        "print('Classification_report:\\n',metrics.classification_report(y_test,y_pred))\n",
        "print('Confusion_matrics:\\n',metrics.confusion_matrix(y_test,y_pred))"
      ],
      "execution_count": null,
      "outputs": [
        {
          "output_type": "stream",
          "text": [
            "Accuracy_score: 0.8168689828380076\n",
            "Classification_report:\n",
            "               precision    recall  f1-score   support\n",
            "\n",
            "           0       0.84      0.78      0.81      2389\n",
            "           1       0.80      0.85      0.82      2389\n",
            "\n",
            "    accuracy                           0.82      4778\n",
            "   macro avg       0.82      0.82      0.82      4778\n",
            "weighted avg       0.82      0.82      0.82      4778\n",
            "\n",
            "Confusion_matrics:\n",
            " [[1870  519]\n",
            " [ 356 2033]]\n"
          ],
          "name": "stdout"
        }
      ]
    },
    {
      "cell_type": "markdown",
      "metadata": {
        "id": "t_EwJjIZQifH"
      },
      "source": [
        "# Hyperparameter tuning the above models :\n",
        "\n",
        "# Ways to hyperparameter tuning :\n",
        "\n",
        "1.   Manual Hypertuning\n",
        "2.   Automatic hyperparameter tuning\n",
        "\n",
        "Methods to hyperparameter tuning :\n",
        "\n",
        "\n",
        "1.   Random search \n",
        "2.   Grid  search\n",
        "3.   Bayesian optimixation\n",
        "\n",
        "Random search : In the random search method, we create a grid of possible values for hyperparameters. Each iteration tries a random combination of hyperparameters from this grid, records the performance, and lastly returns the combination of hyperparameters which provided the best performance.\n",
        "\n",
        "Grid Search :In the grid search method, we create a grid of possible values for hyperparameters. Each iteration tries a combination of hyperparameters in a specific order. It fits the model on each and every combination of hyperparameter possible and records the model performance. Finally, it returns the best model with the best hyperparameters. \n",
        "\n",
        "![image.png](data:image/png;base64,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)\n",
        "\n",
        "Bayesian Optimization :Tuning and finding the right hyperparameters for your model is an optimization problem. We want to minimize the loss function of our model by changing model parameters. Bayesian optimization helps us find the minimal point in the minimum number of steps. Bayesian optimization also uses an acquisition function that directs sampling to areas where an improvement over the current best observation is likely.\n"
      ]
    },
    {
      "cell_type": "markdown",
      "metadata": {
        "id": "9k6NAILiUo2p"
      },
      "source": [
        "# ***Tool used for hyper parameter tuning (that are imp):***\n",
        "\n",
        "*   Scikit-learn (random search cv ,grid search cv)\n",
        "*   keras-tuner\n",
        "*   Hyper-opt (Bayesian optimization)\n",
        "*   Scikit-optimizer\n",
        "\n",
        "\n",
        "\n"
      ]
    },
    {
      "cell_type": "code",
      "metadata": {
        "id": "b6VQVN1xc5dM"
      },
      "source": [
        "#we will implement all 3 above hyper parameter tuning methods\n",
        "#Random Search\n",
        "#Grid Srarch\n",
        "#Bayesian optimization"
      ],
      "execution_count": null,
      "outputs": []
    },
    {
      "cell_type": "code",
      "metadata": {
        "colab": {
          "base_uri": "https://localhost:8080/"
        },
        "id": "2rtQvXngwAyF",
        "outputId": "094dc5cc-4fa0-4af9-e61f-c87567679d64"
      },
      "source": [
        "!pip install bayesian-optimization"
      ],
      "execution_count": null,
      "outputs": [
        {
          "output_type": "stream",
          "text": [
            "Collecting bayesian-optimization\n",
            "  Downloading bayesian-optimization-1.2.0.tar.gz (14 kB)\n",
            "Requirement already satisfied: numpy>=1.9.0 in /usr/local/lib/python3.7/dist-packages (from bayesian-optimization) (1.19.5)\n",
            "Requirement already satisfied: scipy>=0.14.0 in /usr/local/lib/python3.7/dist-packages (from bayesian-optimization) (1.4.1)\n",
            "Requirement already satisfied: scikit-learn>=0.18.0 in /usr/local/lib/python3.7/dist-packages (from bayesian-optimization) (0.22.2.post1)\n",
            "Requirement already satisfied: joblib>=0.11 in /usr/local/lib/python3.7/dist-packages (from scikit-learn>=0.18.0->bayesian-optimization) (1.0.1)\n",
            "Building wheels for collected packages: bayesian-optimization\n",
            "  Building wheel for bayesian-optimization (setup.py) ... \u001b[?25l\u001b[?25hdone\n",
            "  Created wheel for bayesian-optimization: filename=bayesian_optimization-1.2.0-py3-none-any.whl size=11685 sha256=ca0e08c00a1bc33419b264d36fc810ff8d029ba85297fc5250ac374b7834eee7\n",
            "  Stored in directory: /root/.cache/pip/wheels/fd/9b/71/f127d694e02eb40bcf18c7ae9613b88a6be4470f57a8528c5b\n",
            "Successfully built bayesian-optimization\n",
            "Installing collected packages: bayesian-optimization\n",
            "Successfully installed bayesian-optimization-1.2.0\n"
          ],
          "name": "stdout"
        }
      ]
    },
    {
      "cell_type": "code",
      "metadata": {
        "id": "3bQR11LqeiT2"
      },
      "source": [
        "from keras.layers import Dense ,Activation,BatchNormalization,Dropout\n",
        "from keras.optimizers import Adam,Adagrad,Adadelta,SGD,RMSprop,Adamax\n",
        "from keras.callbacks import EarlyStopping,ModelCheckpoint\n",
        "from keras.wrappers.scikit_learn import KerasClassifier\n",
        "from math import floor\n",
        "from sklearn.metrics import make_scorer , accuracy_score,classification_report,confusion_matrix \n",
        "from bayes_opt import BayesianOptimization\n",
        "from sklearn.model_selection import StratifiedKFold,KFold,cross_val_score\n",
        "from keras.layers import LeakyReLU\n",
        "LeakyReLU = LeakyReLU(alpha=0.1)\n",
        "from sklearn.model_selection import RandomizedSearchCV,GridSearchCV"
      ],
      "execution_count": null,
      "outputs": []
    },
    {
      "cell_type": "code",
      "metadata": {
        "id": "koPFwtYvLpe7"
      },
      "source": [
        "#hypertuning "
      ],
      "execution_count": null,
      "outputs": []
    },
    {
      "cell_type": "code",
      "metadata": {
        "id": "pscJQZbzLy3z"
      },
      "source": [
        "def bulid_model(layers,activation,optimizer,weight_int):\n",
        "  model =Sequential()\n",
        "  for i,nodes in enumerate(layers):\n",
        "    if i==0:\n",
        "      model.add(Dense(nodes,input_dim=X_train.shape[1]))\n",
        "      model.add(Activation(activation))\n",
        "    else:\n",
        "      model.add(Dense(nodes,activation=activation,kernel_initializer=weight_int))\n",
        "      model.add(Activation(activation))\n",
        "  model.add(Dense(1))\n",
        "  model.compile(optimizer=optimizer,loss='binary_crossentropy',metrics=['accuracy'])\n",
        "  return model "
      ],
      "execution_count": null,
      "outputs": []
    },
    {
      "cell_type": "code",
      "metadata": {
        "id": "gMN4qwn-bbhI"
      },
      "source": [
        "model = KerasClassifier(build_fn=bulid_model, verbose=0)"
      ],
      "execution_count": null,
      "outputs": []
    },
    {
      "cell_type": "code",
      "metadata": {
        "id": "fMB8IF4ybbcm"
      },
      "source": [
        "layer=[[20,25,30],[40,25],[45,30,15],[40,30,25]]\n",
        "optimizer =['SGD','Adam','RMSprop','Adadalta','Adagrad','Adamax']\n",
        "weight_int=['he_uniform','he_normal','glorot_normal','glorot_uniform']\n",
        "activation=['relu','softmax','sigmoid','tanh','selu','elu','exponential','leaky_relu']\n",
        "batch_size =[int(x) for x in np.linspace(100,1000,50)]\n",
        "epochs =[int(x) for x in np.linspace(20,200,10)]\n",
        "param_grid =dict(layers=layer,activation=activation,optimizer=optimizer,batch_size=batch_size,epochs=epochs,weight_int=weight_int)"
      ],
      "execution_count": null,
      "outputs": []
    },
    {
      "cell_type": "code",
      "metadata": {
        "id": "IN8xz4Zkp66Y"
      },
      "source": [
        "random =RandomizedSearchCV(estimator=model,param_distributions=param_grid,n_jobs=-1,cv=5,verbose=5)"
      ],
      "execution_count": null,
      "outputs": []
    },
    {
      "cell_type": "code",
      "metadata": {
        "colab": {
          "base_uri": "https://localhost:8080/"
        },
        "id": "IOrKCjDdqLOh",
        "outputId": "997df9f3-dba8-4f3e-848e-a3503ea1504c"
      },
      "source": [
        "random =random.fit(X_train,y_train)"
      ],
      "execution_count": null,
      "outputs": [
        {
          "output_type": "stream",
          "text": [
            "Fitting 5 folds for each of 10 candidates, totalling 50 fits\n"
          ],
          "name": "stdout"
        },
        {
          "output_type": "stream",
          "text": [
            "[Parallel(n_jobs=-1)]: Using backend LokyBackend with 2 concurrent workers.\n",
            "[Parallel(n_jobs=-1)]: Done  14 tasks      | elapsed:  1.9min\n",
            "[Parallel(n_jobs=-1)]: Done  50 out of  50 | elapsed:  5.1min finished\n"
          ],
          "name": "stderr"
        }
      ]
    },
    {
      "cell_type": "code",
      "metadata": {
        "colab": {
          "base_uri": "https://localhost:8080/"
        },
        "id": "UYoHde7jrpnQ",
        "outputId": "241e26b9-9d0f-42d6-9991-487fd73db130"
      },
      "source": [
        "random.best_params_"
      ],
      "execution_count": null,
      "outputs": [
        {
          "output_type": "execute_result",
          "data": {
            "text/plain": [
              "{'activation': 'selu',\n",
              " 'batch_size': 687,\n",
              " 'epochs': 140,\n",
              " 'layers': [20, 25, 30],\n",
              " 'optimizer': 'RMSprop',\n",
              " 'weight_int': 'glorot_normal'}"
            ]
          },
          "metadata": {
            "tags": []
          },
          "execution_count": 40
        }
      ]
    },
    {
      "cell_type": "code",
      "metadata": {
        "colab": {
          "base_uri": "https://localhost:8080/"
        },
        "id": "p8bA1dfhruuk",
        "outputId": "0eda8ba1-4f03-4612-84a9-b77924e82bd7"
      },
      "source": [
        "random.best_score_"
      ],
      "execution_count": null,
      "outputs": [
        {
          "output_type": "execute_result",
          "data": {
            "text/plain": [
              "0.7893807053565979"
            ]
          },
          "metadata": {
            "tags": []
          },
          "execution_count": 42
        }
      ]
    },
    {
      "cell_type": "code",
      "metadata": {
        "id": "qjO8A1E6eA_s"
      },
      "source": [
        "layer=[[40,25]]\n",
        "optimizer =['Adam']\n",
        "weight_int=['he_uniform','he_normal']\n",
        "activation=['relu','elu']\n",
        "batch_size =[int(x) for x in np.linspace(400,800,50)]\n",
        "epochs =[75,100,125,130,140]\n",
        "param_grid_1 =dict(layers=layer,activation=activation,optimizer=optimizer,batch_size=batch_size,epochs=epochs,weight_int=weight_int)"
      ],
      "execution_count": null,
      "outputs": []
    },
    {
      "cell_type": "code",
      "metadata": {
        "id": "ALIisWK6bbaO"
      },
      "source": [
        "grid = GridSearchCV(estimator=model,param_grid=param_grid_1,n_jobs=-1,cv=2,verbose=5)"
      ],
      "execution_count": null,
      "outputs": []
    },
    {
      "cell_type": "code",
      "metadata": {
        "colab": {
          "base_uri": "https://localhost:8080/"
        },
        "id": "OnmFjXrJEwfk",
        "outputId": "88845e09-e002-406d-a2e8-71c045a473d8"
      },
      "source": [
        "grid_ge =grid.fit(X_train,y_train)"
      ],
      "execution_count": 47,
      "outputs": [
        {
          "output_type": "stream",
          "text": [
            "Fitting 2 folds for each of 1000 candidates, totalling 2000 fits\n"
          ],
          "name": "stdout"
        },
        {
          "output_type": "stream",
          "text": [
            "[Parallel(n_jobs=-1)]: Using backend LokyBackend with 2 concurrent workers.\n",
            "[Parallel(n_jobs=-1)]: Done  14 tasks      | elapsed:  1.3min\n",
            "[Parallel(n_jobs=-1)]: Done  68 tasks      | elapsed:  4.5min\n",
            "[Parallel(n_jobs=-1)]: Done 158 tasks      | elapsed:  9.7min\n",
            "[Parallel(n_jobs=-1)]: Done 284 tasks      | elapsed: 16.3min\n",
            "[Parallel(n_jobs=-1)]: Done 446 tasks      | elapsed: 24.2min\n",
            "[Parallel(n_jobs=-1)]: Done 644 tasks      | elapsed: 33.1min\n",
            "[Parallel(n_jobs=-1)]: Done 878 tasks      | elapsed: 43.1min\n",
            "[Parallel(n_jobs=-1)]: Done 1148 tasks      | elapsed: 56.4min\n",
            "[Parallel(n_jobs=-1)]: Done 1454 tasks      | elapsed: 71.8min\n",
            "[Parallel(n_jobs=-1)]: Done 1796 tasks      | elapsed: 86.7min\n",
            "[Parallel(n_jobs=-1)]: Done 2000 out of 2000 | elapsed: 95.0min finished\n"
          ],
          "name": "stderr"
        }
      ]
    },
    {
      "cell_type": "code",
      "metadata": {
        "colab": {
          "base_uri": "https://localhost:8080/"
        },
        "id": "8_DNaLekF2xg",
        "outputId": "d4875af0-6bcd-4863-c6a2-0e9a5e04eda0"
      },
      "source": [
        "grid_ge.best_score_"
      ],
      "execution_count": 48,
      "outputs": [
        {
          "output_type": "execute_result",
          "data": {
            "text/plain": [
              "0.792429119348526"
            ]
          },
          "metadata": {
            "tags": []
          },
          "execution_count": 48
        }
      ]
    },
    {
      "cell_type": "code",
      "metadata": {
        "id": "pIIl2sfwDnl9"
      },
      "source": [
        "#hyperparameter tuning using Keras-tuner"
      ],
      "execution_count": null,
      "outputs": []
    },
    {
      "cell_type": "code",
      "metadata": {
        "colab": {
          "base_uri": "https://localhost:8080/"
        },
        "id": "Y55oo4kSI761",
        "outputId": "7dbb8623-52f3-4735-be69-e928c1325c70"
      },
      "source": [
        "!pip install keras-tuner"
      ],
      "execution_count": 67,
      "outputs": [
        {
          "output_type": "stream",
          "text": [
            "Requirement already satisfied: keras-tuner in /usr/local/lib/python3.7/dist-packages (1.0.3)\n",
            "Requirement already satisfied: kt-legacy in /usr/local/lib/python3.7/dist-packages (from keras-tuner) (1.0.3)\n",
            "Requirement already satisfied: scipy in /usr/local/lib/python3.7/dist-packages (from keras-tuner) (1.4.1)\n",
            "Requirement already satisfied: tensorboard in /usr/local/lib/python3.7/dist-packages (from keras-tuner) (2.5.0)\n",
            "Requirement already satisfied: packaging in /usr/local/lib/python3.7/dist-packages (from keras-tuner) (21.0)\n",
            "Requirement already satisfied: requests in /usr/local/lib/python3.7/dist-packages (from keras-tuner) (2.23.0)\n",
            "Requirement already satisfied: numpy in /usr/local/lib/python3.7/dist-packages (from keras-tuner) (1.19.5)\n",
            "Requirement already satisfied: ipython in /usr/local/lib/python3.7/dist-packages (from keras-tuner) (5.5.0)\n",
            "Requirement already satisfied: decorator in /usr/local/lib/python3.7/dist-packages (from ipython->keras-tuner) (4.4.2)\n",
            "Requirement already satisfied: pickleshare in /usr/local/lib/python3.7/dist-packages (from ipython->keras-tuner) (0.7.5)\n",
            "Requirement already satisfied: traitlets>=4.2 in /usr/local/lib/python3.7/dist-packages (from ipython->keras-tuner) (5.0.5)\n",
            "Requirement already satisfied: setuptools>=18.5 in /usr/local/lib/python3.7/dist-packages (from ipython->keras-tuner) (57.2.0)\n",
            "Requirement already satisfied: simplegeneric>0.8 in /usr/local/lib/python3.7/dist-packages (from ipython->keras-tuner) (0.8.1)\n",
            "Requirement already satisfied: pexpect in /usr/local/lib/python3.7/dist-packages (from ipython->keras-tuner) (4.8.0)\n",
            "Requirement already satisfied: prompt-toolkit<2.0.0,>=1.0.4 in /usr/local/lib/python3.7/dist-packages (from ipython->keras-tuner) (1.0.18)\n",
            "Requirement already satisfied: pygments in /usr/local/lib/python3.7/dist-packages (from ipython->keras-tuner) (2.6.1)\n",
            "Requirement already satisfied: six>=1.9.0 in /usr/local/lib/python3.7/dist-packages (from prompt-toolkit<2.0.0,>=1.0.4->ipython->keras-tuner) (1.15.0)\n",
            "Requirement already satisfied: wcwidth in /usr/local/lib/python3.7/dist-packages (from prompt-toolkit<2.0.0,>=1.0.4->ipython->keras-tuner) (0.2.5)\n",
            "Requirement already satisfied: ipython-genutils in /usr/local/lib/python3.7/dist-packages (from traitlets>=4.2->ipython->keras-tuner) (0.2.0)\n",
            "Requirement already satisfied: pyparsing>=2.0.2 in /usr/local/lib/python3.7/dist-packages (from packaging->keras-tuner) (2.4.7)\n",
            "Requirement already satisfied: ptyprocess>=0.5 in /usr/local/lib/python3.7/dist-packages (from pexpect->ipython->keras-tuner) (0.7.0)\n",
            "Requirement already satisfied: chardet<4,>=3.0.2 in /usr/local/lib/python3.7/dist-packages (from requests->keras-tuner) (3.0.4)\n",
            "Requirement already satisfied: idna<3,>=2.5 in /usr/local/lib/python3.7/dist-packages (from requests->keras-tuner) (2.10)\n",
            "Requirement already satisfied: urllib3!=1.25.0,!=1.25.1,<1.26,>=1.21.1 in /usr/local/lib/python3.7/dist-packages (from requests->keras-tuner) (1.24.3)\n",
            "Requirement already satisfied: certifi>=2017.4.17 in /usr/local/lib/python3.7/dist-packages (from requests->keras-tuner) (2021.5.30)\n",
            "Requirement already satisfied: markdown>=2.6.8 in /usr/local/lib/python3.7/dist-packages (from tensorboard->keras-tuner) (3.3.4)\n",
            "Requirement already satisfied: werkzeug>=0.11.15 in /usr/local/lib/python3.7/dist-packages (from tensorboard->keras-tuner) (1.0.1)\n",
            "Requirement already satisfied: tensorboard-data-server<0.7.0,>=0.6.0 in /usr/local/lib/python3.7/dist-packages (from tensorboard->keras-tuner) (0.6.1)\n",
            "Requirement already satisfied: protobuf>=3.6.0 in /usr/local/lib/python3.7/dist-packages (from tensorboard->keras-tuner) (3.17.3)\n",
            "Requirement already satisfied: absl-py>=0.4 in /usr/local/lib/python3.7/dist-packages (from tensorboard->keras-tuner) (0.12.0)\n",
            "Requirement already satisfied: google-auth-oauthlib<0.5,>=0.4.1 in /usr/local/lib/python3.7/dist-packages (from tensorboard->keras-tuner) (0.4.4)\n",
            "Requirement already satisfied: wheel>=0.26 in /usr/local/lib/python3.7/dist-packages (from tensorboard->keras-tuner) (0.36.2)\n",
            "Requirement already satisfied: grpcio>=1.24.3 in /usr/local/lib/python3.7/dist-packages (from tensorboard->keras-tuner) (1.34.1)\n",
            "Requirement already satisfied: google-auth<2,>=1.6.3 in /usr/local/lib/python3.7/dist-packages (from tensorboard->keras-tuner) (1.32.1)\n",
            "Requirement already satisfied: tensorboard-plugin-wit>=1.6.0 in /usr/local/lib/python3.7/dist-packages (from tensorboard->keras-tuner) (1.8.0)\n",
            "Requirement already satisfied: rsa<5,>=3.1.4 in /usr/local/lib/python3.7/dist-packages (from google-auth<2,>=1.6.3->tensorboard->keras-tuner) (4.7.2)\n",
            "Requirement already satisfied: cachetools<5.0,>=2.0.0 in /usr/local/lib/python3.7/dist-packages (from google-auth<2,>=1.6.3->tensorboard->keras-tuner) (4.2.2)\n",
            "Requirement already satisfied: pyasn1-modules>=0.2.1 in /usr/local/lib/python3.7/dist-packages (from google-auth<2,>=1.6.3->tensorboard->keras-tuner) (0.2.8)\n",
            "Requirement already satisfied: requests-oauthlib>=0.7.0 in /usr/local/lib/python3.7/dist-packages (from google-auth-oauthlib<0.5,>=0.4.1->tensorboard->keras-tuner) (1.3.0)\n",
            "Requirement already satisfied: importlib-metadata in /usr/local/lib/python3.7/dist-packages (from markdown>=2.6.8->tensorboard->keras-tuner) (4.6.1)\n",
            "Requirement already satisfied: pyasn1<0.5.0,>=0.4.6 in /usr/local/lib/python3.7/dist-packages (from pyasn1-modules>=0.2.1->google-auth<2,>=1.6.3->tensorboard->keras-tuner) (0.4.8)\n",
            "Requirement already satisfied: oauthlib>=3.0.0 in /usr/local/lib/python3.7/dist-packages (from requests-oauthlib>=0.7.0->google-auth-oauthlib<0.5,>=0.4.1->tensorboard->keras-tuner) (3.1.1)\n",
            "Requirement already satisfied: typing-extensions>=3.6.4 in /usr/local/lib/python3.7/dist-packages (from importlib-metadata->markdown>=2.6.8->tensorboard->keras-tuner) (3.7.4.3)\n",
            "Requirement already satisfied: zipp>=0.5 in /usr/local/lib/python3.7/dist-packages (from importlib-metadata->markdown>=2.6.8->tensorboard->keras-tuner) (3.5.0)\n"
          ],
          "name": "stdout"
        }
      ]
    },
    {
      "cell_type": "code",
      "metadata": {
        "id": "c56Ph5oQKPOY"
      },
      "source": [
        "def build_model(hp):\n",
        "    model = keras.Sequential()\n",
        "    for i in range(hp.Int('num_layers', 2, 20)):\n",
        "        model.add(layers.Dense(units=hp.Int('units_' + str(i),\n",
        "                                            min_value=32,\n",
        "                                            max_value=512,\n",
        "                                            step=32),\n",
        "                               activation='relu'))\n",
        "    model.add(layers.Dense(1, activation='sigmoid'))\n",
        "    model.compile(\n",
        "        optimizer=keras.optimizers.Adam(\n",
        "            hp.Choice('learning_rate', [1e-2, 1e-3, 1e-4])),\n",
        "        loss='binary_crossentropy',metrics=['accuracy'])\n",
        "    return model"
      ],
      "execution_count": 103,
      "outputs": []
    },
    {
      "cell_type": "code",
      "metadata": {
        "id": "TswsPoRjE1na"
      },
      "source": [
        "from kerastuner import RandomSearch\n",
        "from kerastuner.engine.hyperparameters import HyperParameters"
      ],
      "execution_count": 104,
      "outputs": []
    },
    {
      "cell_type": "code",
      "metadata": {
        "id": "vhjQnZWTE1lP"
      },
      "source": [
        "tuner = RandomSearch(\n",
        "    build_model,\n",
        "    objective='val_accuracy',\n",
        "    max_trials=5,\n",
        "    executions_per_trial=3,\n",
        "     directory='project',\n",
        "    project_name='churn_model')"
      ],
      "execution_count": 105,
      "outputs": []
    },
    {
      "cell_type": "code",
      "metadata": {
        "colab": {
          "base_uri": "https://localhost:8080/"
        },
        "id": "iIuxQ2QeSz1h",
        "outputId": "0a8e838f-f479-4ed9-9f90-3880e7ef97f2"
      },
      "source": [
        "tuner.search_space_summary()"
      ],
      "execution_count": 106,
      "outputs": [
        {
          "output_type": "stream",
          "text": [
            "Search space summary\n",
            "Default search space size: 4\n",
            "num_layers (Int)\n",
            "{'default': None, 'conditions': [], 'min_value': 2, 'max_value': 20, 'step': 1, 'sampling': None}\n",
            "units_0 (Int)\n",
            "{'default': None, 'conditions': [], 'min_value': 32, 'max_value': 512, 'step': 32, 'sampling': None}\n",
            "units_1 (Int)\n",
            "{'default': None, 'conditions': [], 'min_value': 32, 'max_value': 512, 'step': 32, 'sampling': None}\n",
            "learning_rate (Choice)\n",
            "{'default': 0.01, 'conditions': [], 'values': [0.01, 0.001, 0.0001], 'ordered': True}\n"
          ],
          "name": "stdout"
        }
      ]
    },
    {
      "cell_type": "code",
      "metadata": {
        "id": "IXKpLdZME1O3",
        "colab": {
          "base_uri": "https://localhost:8080/"
        },
        "outputId": "3bccb511-9816-4553-9054-5e18ff93187f"
      },
      "source": [
        "tuner.search(X_train, y_train, epochs=5, validation_split=0.2)\n",
        "best_model = tuner.get_best_models()[0]"
      ],
      "execution_count": 107,
      "outputs": [
        {
          "output_type": "stream",
          "text": [
            "Trial 5 Complete [00h 00m 32s]\n",
            "val_accuracy: 0.8319880366325378\n",
            "\n",
            "Best val_accuracy So Far: 0.8319880366325378\n",
            "Total elapsed time: 00h 02m 27s\n",
            "INFO:tensorflow:Oracle triggered exit\n",
            "WARNING:tensorflow:Unresolved object in checkpoint: (root).optimizer.iter\n",
            "WARNING:tensorflow:Unresolved object in checkpoint: (root).optimizer.beta_1\n",
            "WARNING:tensorflow:Unresolved object in checkpoint: (root).optimizer.beta_2\n",
            "WARNING:tensorflow:Unresolved object in checkpoint: (root).optimizer.decay\n",
            "WARNING:tensorflow:Unresolved object in checkpoint: (root).optimizer.learning_rate\n",
            "WARNING:tensorflow:Unresolved object in checkpoint: (root).layer_with_weights-0._module.kernel\n",
            "WARNING:tensorflow:Unresolved object in checkpoint: (root).layer_with_weights-0._module.bias\n",
            "WARNING:tensorflow:Unresolved object in checkpoint: (root).layer_with_weights-1._module.kernel\n",
            "WARNING:tensorflow:Unresolved object in checkpoint: (root).layer_with_weights-1._module.bias\n",
            "WARNING:tensorflow:Unresolved object in checkpoint: (root).layer_with_weights-2._module.kernel\n",
            "WARNING:tensorflow:Unresolved object in checkpoint: (root).layer_with_weights-2._module.bias\n",
            "WARNING:tensorflow:Unresolved object in checkpoint: (root).layer_with_weights-3._module.kernel\n",
            "WARNING:tensorflow:Unresolved object in checkpoint: (root).layer_with_weights-3._module.bias\n",
            "WARNING:tensorflow:Unresolved object in checkpoint: (root).layer_with_weights-4._module.kernel\n",
            "WARNING:tensorflow:Unresolved object in checkpoint: (root).layer_with_weights-4._module.bias\n",
            "WARNING:tensorflow:Unresolved object in checkpoint: (root).optimizer's state 'm' for (root).layer_with_weights-0._module.kernel\n",
            "WARNING:tensorflow:Unresolved object in checkpoint: (root).optimizer's state 'm' for (root).layer_with_weights-0._module.bias\n",
            "WARNING:tensorflow:Unresolved object in checkpoint: (root).optimizer's state 'm' for (root).layer_with_weights-1._module.kernel\n",
            "WARNING:tensorflow:Unresolved object in checkpoint: (root).optimizer's state 'm' for (root).layer_with_weights-1._module.bias\n",
            "WARNING:tensorflow:Unresolved object in checkpoint: (root).optimizer's state 'm' for (root).layer_with_weights-2._module.kernel\n",
            "WARNING:tensorflow:Unresolved object in checkpoint: (root).optimizer's state 'm' for (root).layer_with_weights-2._module.bias\n",
            "WARNING:tensorflow:Unresolved object in checkpoint: (root).optimizer's state 'm' for (root).layer_with_weights-3._module.kernel\n",
            "WARNING:tensorflow:Unresolved object in checkpoint: (root).optimizer's state 'm' for (root).layer_with_weights-3._module.bias\n",
            "WARNING:tensorflow:Unresolved object in checkpoint: (root).optimizer's state 'm' for (root).layer_with_weights-4._module.kernel\n",
            "WARNING:tensorflow:Unresolved object in checkpoint: (root).optimizer's state 'm' for (root).layer_with_weights-4._module.bias\n",
            "WARNING:tensorflow:Unresolved object in checkpoint: (root).optimizer's state 'v' for (root).layer_with_weights-0._module.kernel\n",
            "WARNING:tensorflow:Unresolved object in checkpoint: (root).optimizer's state 'v' for (root).layer_with_weights-0._module.bias\n",
            "WARNING:tensorflow:Unresolved object in checkpoint: (root).optimizer's state 'v' for (root).layer_with_weights-1._module.kernel\n",
            "WARNING:tensorflow:Unresolved object in checkpoint: (root).optimizer's state 'v' for (root).layer_with_weights-1._module.bias\n",
            "WARNING:tensorflow:Unresolved object in checkpoint: (root).optimizer's state 'v' for (root).layer_with_weights-2._module.kernel\n",
            "WARNING:tensorflow:Unresolved object in checkpoint: (root).optimizer's state 'v' for (root).layer_with_weights-2._module.bias\n",
            "WARNING:tensorflow:Unresolved object in checkpoint: (root).optimizer's state 'v' for (root).layer_with_weights-3._module.kernel\n",
            "WARNING:tensorflow:Unresolved object in checkpoint: (root).optimizer's state 'v' for (root).layer_with_weights-3._module.bias\n",
            "WARNING:tensorflow:Unresolved object in checkpoint: (root).optimizer's state 'v' for (root).layer_with_weights-4._module.kernel\n",
            "WARNING:tensorflow:Unresolved object in checkpoint: (root).optimizer's state 'v' for (root).layer_with_weights-4._module.bias\n",
            "WARNING:tensorflow:A checkpoint was restored (e.g. tf.train.Checkpoint.restore or tf.keras.Model.load_weights) but not all checkpointed values were used. See above for specific issues. Use expect_partial() on the load status object, e.g. tf.train.Checkpoint.restore(...).expect_partial(), to silence these warnings, or use assert_consumed() to make the check explicit. See https://www.tensorflow.org/guide/checkpoint#loading_mechanics for details.\n"
          ],
          "name": "stdout"
        }
      ]
    },
    {
      "cell_type": "code",
      "metadata": {
        "colab": {
          "base_uri": "https://localhost:8080/"
        },
        "id": "bfDXPL1ZZ95T",
        "outputId": "1e8a00b8-b0d3-49e1-b5e5-1a989ffc9669"
      },
      "source": [
        "tuner.results_summary()"
      ],
      "execution_count": 124,
      "outputs": [
        {
          "output_type": "stream",
          "text": [
            "Results summary\n",
            "Results in project/churn_model\n",
            "Showing 10 best trials\n",
            "Objective(name='val_accuracy', direction='max')\n",
            "Trial summary\n",
            "Hyperparameters:\n",
            "num_layers: 18\n",
            "units_0: 256\n",
            "units_1: 256\n",
            "learning_rate: 0.0001\n",
            "units_2: 480\n",
            "units_3: 320\n",
            "units_4: 128\n",
            "units_5: 416\n",
            "units_6: 128\n",
            "units_7: 288\n",
            "units_8: 160\n",
            "units_9: 448\n",
            "units_10: 352\n",
            "units_11: 256\n",
            "units_12: 128\n",
            "units_13: 160\n",
            "units_14: 64\n",
            "units_15: 96\n",
            "units_16: 32\n",
            "units_17: 352\n",
            "units_18: 384\n",
            "Score: 0.8319880366325378\n",
            "Trial summary\n",
            "Hyperparameters:\n",
            "num_layers: 8\n",
            "units_0: 160\n",
            "units_1: 384\n",
            "learning_rate: 0.001\n",
            "units_2: 352\n",
            "units_3: 480\n",
            "units_4: 384\n",
            "units_5: 128\n",
            "units_6: 288\n",
            "units_7: 480\n",
            "units_8: 480\n",
            "units_9: 128\n",
            "units_10: 224\n",
            "units_11: 320\n",
            "units_12: 128\n",
            "units_13: 352\n",
            "units_14: 192\n",
            "units_15: 480\n",
            "units_16: 352\n",
            "units_17: 288\n",
            "units_18: 160\n",
            "Score: 0.8260089755058289\n",
            "Trial summary\n",
            "Hyperparameters:\n",
            "num_layers: 4\n",
            "units_0: 448\n",
            "units_1: 352\n",
            "learning_rate: 0.0001\n",
            "units_2: 32\n",
            "units_3: 32\n",
            "Score: 0.8191330432891846\n",
            "Trial summary\n",
            "Hyperparameters:\n",
            "num_layers: 19\n",
            "units_0: 352\n",
            "units_1: 416\n",
            "learning_rate: 0.01\n",
            "units_2: 192\n",
            "units_3: 160\n",
            "units_4: 32\n",
            "units_5: 32\n",
            "units_6: 32\n",
            "units_7: 32\n",
            "units_8: 32\n",
            "units_9: 32\n",
            "units_10: 32\n",
            "units_11: 32\n",
            "units_12: 32\n",
            "units_13: 32\n",
            "units_14: 32\n",
            "units_15: 32\n",
            "units_16: 32\n",
            "units_17: 32\n",
            "units_18: 32\n",
            "Score: 0.7079222599665324\n",
            "Trial summary\n",
            "Hyperparameters:\n",
            "num_layers: 13\n",
            "units_0: 96\n",
            "units_1: 512\n",
            "learning_rate: 0.01\n",
            "units_2: 384\n",
            "units_3: 320\n",
            "units_4: 160\n",
            "units_5: 160\n",
            "units_6: 96\n",
            "units_7: 416\n",
            "units_8: 288\n",
            "units_9: 64\n",
            "units_10: 64\n",
            "units_11: 384\n",
            "units_12: 192\n",
            "units_13: 480\n",
            "units_14: 128\n",
            "units_15: 256\n",
            "units_16: 320\n",
            "units_17: 64\n",
            "units_18: 192\n",
            "Score: 0.6856502095858256\n"
          ],
          "name": "stdout"
        }
      ]
    },
    {
      "cell_type": "code",
      "metadata": {
        "id": "18q5-u2zXqIS"
      },
      "source": [
        "#BayesianOptimization\n",
        "#In_2nd_part"
      ],
      "execution_count": 125,
      "outputs": []
    },
    {
      "cell_type": "code",
      "metadata": {
        "id": "dO01zuXzY7yP"
      },
      "source": [
        ""
      ],
      "execution_count": null,
      "outputs": []
    }
  ]
}